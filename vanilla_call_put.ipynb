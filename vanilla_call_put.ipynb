{
 "cells": [
  {
   "cell_type": "markdown",
   "metadata": {},
   "source": [
    "# Vanilla **put** and **call** options pricing"
   ]
  },
  {
   "cell_type": "markdown",
   "metadata": {},
   "source": [
    "---"
   ]
  },
  {
   "cell_type": "markdown",
   "metadata": {},
   "source": [
    "We follow the exposition in Paul Wilmott's book. \n",
    "\n",
    "Definitions:\n",
    "* $S_i$: underlying asset price at time $t_i$ ($i=0,...,N$, with $N$ the number of steps)\n",
    "* $F$: strike price of the option\n",
    "* $\\delta t$: size of the single time step, defined by $\\delta t = T/N$. $T$ is the time to maturity.\n",
    "* $r$: continously compounded risk-free rate for the period $T$.\n",
    "\n",
    "According to the binomial model, for each $i$,\n",
    "$$ S_{i+1} = \n",
    "\\begin{cases}\n",
    "uS_i \\text{ with probability } p \\\\\n",
    "v S_i \\text{ with probability } 1-p \\\\\n",
    "\\end{cases}.\n",
    "$$\n",
    "where $u>1$ and $v<1$.\n",
    "The probability $p$ is actually irrelevant for the calculation.\n",
    "\n",
    "The price for a **European option** at each time step is then given by\n",
    "$$ V_i = e^{-r \\delta t} \\left[ p' V_{i+1}^+ + (1-p')(V_{i+1}^-) \\right] $$\n",
    "where $V_{i+1} ^{\\pm}$ is the value of the option at the next time step supposing the underlying has moved to $S_{i+1} = uS_i$ or $S_{i+1} = vS_i$, respectively, and $p'$ is the _risk-neutral probability_  \n",
    "$$ p' = \\frac{e^{r\\delta t} - v}{u-v}.$$\n",
    "Note that at the last time step, $i=N$, the value of the option depends on the payout function. For calls $V_T =  \\text{max}(S_T-F,0)$, for puts $V_T =  \\text{max}(F-S_T,0)$.\n",
    "\n",
    "Finally, for **American call options** the formula is modified to\n",
    "$$V_i = \\text{max} \\left( e^{-r\\delta t} \\left[ p' V_{i+1}^+ + (1-p')(V_{i+1}^-) \\right], S_i - F \\right)$$\n",
    "and for **American put options**\n",
    "$$V_i = \\text{max} \\left( e^{-r\\delta t} \\left[ p' V_{i+1}^+ + (1-p')(V_{i+1}^-) \\right], F - S_i \\right).$$"
   ]
  },
  {
   "cell_type": "markdown",
   "metadata": {},
   "source": [
    "---\n",
    "\n",
    "Functions for the calculation of the price"
   ]
  },
  {
   "cell_type": "code",
   "execution_count": 1,
   "metadata": {},
   "outputs": [],
   "source": [
    "import numpy as np\n",
    "from typing import List, Dict\n",
    "\n",
    "class OptionTypeInvalid(Exception):\n",
    "    def __init__(self,  message=\"Option type invalid\"):\n",
    "        self.message = message\n",
    "        super().__init__(self.message)\n",
    "\n",
    "class OptionSpeciesInvalid(Exception):\n",
    "    def __init__(self,  message=\"Option species invalid\"):\n",
    "        self.message = message\n",
    "        super().__init__(self.message)\n",
    "\n",
    "def option_payoff(option_type: 'str', asset_price: 'float', strike_price: 'float') -> float:\n",
    "    \"\"\" Returns the value of this option give an asset price and strike price\n",
    "\n",
    "    Attributes\n",
    "    ----------\n",
    "    option_type: str\n",
    "        Either 'call' or 'put'\n",
    "    asset_price: float\n",
    "    strike_price: float\n",
    "\n",
    "    Returns\n",
    "    -------\n",
    "    float\n",
    "        The value of the option\n",
    "    \"\"\"\n",
    "    if option_type == 'call':\n",
    "        return max(0,asset_price-strike_price)\n",
    "    elif option_type == 'put':\n",
    "        return max(0, strike_price-asset_price)\n",
    "    else:\n",
    "        raise OptionTypeInvalid()\n",
    "    \n",
    "\n",
    "def option_prices(option_type: 'str', option_species : 'str', strike_price: 'float', stock_init_price: 'float', u: 'float', v: 'float', risk_free_rate: 'float' , tot_time: 'float', n_steps: 'int') -> List[Dict[int, float]]: \n",
    "    \"\"\" Returns the values of the option given the option details, the risk free rate, the maturity and the number of steps in the simulation\n",
    "\n",
    "    Attributes\n",
    "    ----------\n",
    "    option_type: str\n",
    "        Either 'call' or 'put'\n",
    "    option_species: str\n",
    "        Either 'european' (default) or 'american'\n",
    "    strike_price: float\n",
    "    stock_init_price: float\n",
    "    u: float\n",
    "    v: float\n",
    "    risk_free_rate: float\n",
    "    tot_time: float\n",
    "    n_steps: int\n",
    "\n",
    "    Returns\n",
    "    -------\n",
    "    List[Dict[str, int]]\n",
    "        The values of the stock, of the option payoff and of the option at t_i\n",
    "    \"\"\"\n",
    "    step_size =  tot_time/n_steps\n",
    "    n_steps += 1\n",
    "    stock_prices = {i: [None for _ in range(i+1)] for i in range(n_steps)}\n",
    "    option_payoffs = {i: [None for _ in range(i+1)] for i in range(n_steps)}\n",
    "    option_values = {i: [None for _ in range(i+1)] for i in range(n_steps)}\n",
    "    discount_factor = np.exp(-risk_free_rate*step_size)\n",
    "    pprime = (1/discount_factor-v)/(u-v)\n",
    "    for i in range(n_steps):\n",
    "        for j in range(i+1):\n",
    "            stock_prices[i][j] = stock_init_price * (u**(i-j)) * (v**(j))\n",
    "            option_payoffs[i][j] = option_payoff(option_type, stock_prices[i][j],strike_price)\n",
    "    option_values[n_steps-1] = option_payoffs[n_steps-1]\n",
    "    for i in range(n_steps):\n",
    "        for j in range(n_steps-i-1):\n",
    "            i_retro = n_steps-i-1\n",
    "            if option_species == 'european':\n",
    "                option_values[i_retro-1][j] = discount_factor*(pprime*option_values[i_retro][j] + (1-pprime)*option_values[i_retro][j+1])\n",
    "            elif option_species == 'american':\n",
    "                option_values[i_retro-1][j] = max( discount_factor*(pprime*option_values[i_retro][j] + (1-pprime)*option_values[i_retro][j+1]), \n",
    "                                                  option_payoff(option_type, stock_prices[i_retro-1][j], strike_price) )\n",
    "            else:\n",
    "                raise OptionSpeciesInvalid()\n",
    "            \n",
    "    return [stock_prices, option_payoffs, option_values]\n",
    "\n"
   ]
  },
  {
   "cell_type": "markdown",
   "metadata": {},
   "source": [
    "--- \n",
    "\n",
    "## Examples"
   ]
  },
  {
   "cell_type": "markdown",
   "metadata": {},
   "source": [
    "Wilmott book example (result matches the book)"
   ]
  },
  {
   "cell_type": "code",
   "execution_count": 7,
   "metadata": {},
   "outputs": [
    {
     "name": "stdout",
     "output_type": "stream",
     "text": [
      "Stock prices\n",
      "0 : [100.0]\n",
      "1 : [106.04, 94.31]\n",
      "2 : [112.444816, 100.006324, 88.94376100000001]\n",
      "3 : [119.23648288640001, 106.04670596960001, 94.31596416440001, 83.88286099910002]\n",
      "4 : [126.43836645273856, 112.45192701016386, 100.01264839992977, 88.94938580344567, 79.10992620825122]\n",
      "Option payoffs\n",
      "0 : [0]\n",
      "1 : [6.040000000000006, 0]\n",
      "2 : [12.444816000000003, 0.006324000000006436, 0]\n",
      "3 : [19.23648288640001, 6.046705969600012, 0, 0]\n",
      "4 : [26.438366452738563, 12.451927010163857, 0.01264839992977329, 0, 0]\n",
      "Option values\n",
      "0 : [6.136930000932622]\n",
      "1 : [9.449690650117864, 2.0972146854304263]\n",
      "2 : [14.097670617838267, 3.797587007438228, 0.003851269930354975]\n",
      "3 : [20.066353622512416, 6.87657670571242, 0.006979427076532848, 0.0]\n",
      "4 : [26.438366452738563, 12.451927010163857, 0.01264839992977329, 0, 0]\n"
     ]
    }
   ],
   "source": [
    "u = 1.0604\n",
    "v=  0.9431\n",
    "strike_price = 100\n",
    "stock_init_price = 100\n",
    "r = 0.1\n",
    "t_tot = 1/3 # 1/3 in years, so 4 months\n",
    "n_steps =  4 # 4 steps, so delta_t = t_tot/4 = 1 month\n",
    "\n",
    "stock_prices, option_payoffs, option_values = option_prices(option_type='call', option_species= 'european', strike_price = strike_price, stock_init_price = stock_init_price, u=u,v=v, risk_free_rate=r, tot_time = t_tot, n_steps=n_steps)\n",
    "\n",
    "print('Stock prices')\n",
    "for step, prices in stock_prices.items():\n",
    "    print(step, ':', prices)\n",
    "print('Option payoffs')\n",
    "for step, prices in option_payoffs.items():\n",
    "    print(step, ':', prices)\n",
    "print('Option values')\n",
    "for step, prices in option_values.items():\n",
    "    print(step, ':', prices)"
   ]
  }
 ],
 "metadata": {
  "kernelspec": {
   "display_name": "Python 3",
   "language": "python",
   "name": "python3"
  },
  "language_info": {
   "codemirror_mode": {
    "name": "ipython",
    "version": 3
   },
   "file_extension": ".py",
   "mimetype": "text/x-python",
   "name": "python",
   "nbconvert_exporter": "python",
   "pygments_lexer": "ipython3",
   "version": "3.12.3"
  }
 },
 "nbformat": 4,
 "nbformat_minor": 2
}
