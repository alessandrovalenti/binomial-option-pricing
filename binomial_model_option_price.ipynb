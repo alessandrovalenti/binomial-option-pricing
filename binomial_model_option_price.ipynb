{
 "cells": [
  {
   "cell_type": "markdown",
   "metadata": {},
   "source": [
    "# TOOL FOR CALCULTING PUT/CALL OPTIONS VALUE IN THE BINOMIAL PRICING MODEL\n",
    "***"
   ]
  },
  {
   "cell_type": "markdown",
   "metadata": {},
   "source": [
    "Here we price the option using the simple parametrization in which $S_{i+1} = uS$ with probability $p$ and $vS$ with probability $(1-p)$. The option price is\n",
    "$$V_i = \\frac{V^+ _{i+1} - V^- _{i+1}}{u-V} + \\frac{1}{e^{r\\delta t}}\\frac{uV^- _{i+1} - vV^+ _{i+1}}{u-V} $$\n",
    "where $V_{i+1} ^{\\pm}$ are the option values at the next step. Steps are defined by $\\delta t = T/N$, $i=0...N$."
   ]
  },
  {
   "cell_type": "code",
   "execution_count": 22,
   "metadata": {},
   "outputs": [],
   "source": [
    "import numpy as np\n",
    "from typing import List, Dict\n",
    "\n",
    "class OptionTypeInvalid(Exception):\n",
    "    def __init__(self,  message=\"Option type invalid\"):\n",
    "        self.message = message\n",
    "        super().__init__(self.message)\n",
    "\n",
    "class OptionSpeciesInvalid(Exception):\n",
    "    def __init__(self,  message=\"Option species invalid\"):\n",
    "        self.message = message\n",
    "        super().__init__(self.message)\n",
    "\n",
    "def option_payoff(option_type: 'str', asset_price: 'float', strike_price: 'float') -> float:\n",
    "    \"\"\" Returns the value of this option give an asset price and strike price\n",
    "\n",
    "    Attributes\n",
    "    ----------\n",
    "    option_type: str\n",
    "        Either 'call' or 'put'\n",
    "    asset_price: float\n",
    "    strike_price: float\n",
    "\n",
    "    Returns\n",
    "    -------\n",
    "    float\n",
    "        The value of the option\n",
    "    \"\"\"\n",
    "    if option_type == 'call':\n",
    "        return max(0,asset_price-strike_price)\n",
    "    elif option_type == 'put':\n",
    "        return max(0, strike_price-asset_price)\n",
    "    else:\n",
    "        raise OptionTypeInvalid()\n",
    "    \n",
    "\n",
    "def option_prices(option_type: 'str', option_species : 'str', strike_price: 'float', stock_init_price: 'float', u: 'float', v: 'float', risk_free_rate: 'float' , tot_time: 'float', n_steps: 'int') -> List[Dict[float, float]]:\n",
    "    \"\"\" Returns the values of the option given the option details, the risk free rate, the maturity and the number of steps in the simulation\n",
    "\n",
    "    Attributes\n",
    "    ----------\n",
    "    option_type: str\n",
    "        Either 'call' or 'put'\n",
    "    option_species: str\n",
    "        Either 'european' (default) or 'american'\n",
    "    strike_price: float\n",
    "    stock_init_price: float\n",
    "    u: float\n",
    "    v: float\n",
    "    risk_free_rate: float\n",
    "    tot_time: float\n",
    "    n_steps: int\n",
    "\n",
    "    Returns\n",
    "    -------\n",
    "    List[Dict[str, int]]\n",
    "        The values of the stock, of the option payoff and of the option at time step i\n",
    "    \"\"\"\n",
    "    step_size =  tot_time/n_steps\n",
    "    n_steps += 1\n",
    "    stock_prices = {i: [None for _ in range(i+1)] for i in range(n_steps)}\n",
    "    option_payoffs = {i: [None for _ in range(i+1)] for i in range(n_steps)}\n",
    "    option_values = {i: [None for _ in range(i+1)] for i in range(n_steps)}\n",
    "    for i in range(n_steps):\n",
    "        for j in range(i+1):\n",
    "            stock_prices[i][j] = stock_init_price * (u**(i-j)) * (v**(j))\n",
    "            option_payoffs[i][j] = option_payoff(option_type, stock_prices[i][j],strike_price)\n",
    "    option_values[n_steps-1] = option_payoffs[n_steps-1]\n",
    "    for i in range(n_steps):\n",
    "        for j in range(n_steps-i-1):\n",
    "            i_retro = n_steps-i-1\n",
    "            if option_species == 'european':\n",
    "                option_values[i_retro-1][j] = (option_values[i_retro][j]-option_values[i_retro][j+1])/(u-v) + (u*option_values[i_retro][j+1]-v*option_values[i_retro][j])/((u-v)*np.exp(risk_free_rate*step_size))\n",
    "            elif option_species == 'american':\n",
    "                option_values[i_retro-1][j] = max( (option_values[i_retro][j]-option_values[i_retro][j+1])/(u-v) + (u*option_values[i_retro][j+1]-v*option_values[i_retro][j])/((u-v)*np.exp(risk_free_rate*step_size)),\n",
    "                                                  option_payoff(option_type, stock_prices[i_retro-1][j], strike_price))\n",
    "            else:\n",
    "                raise OptionSpeciesInvalid()\n",
    "            \n",
    "    return [stock_prices, option_payoffs,option_values]\n",
    "\n"
   ]
  },
  {
   "cell_type": "markdown",
   "metadata": {},
   "source": [
    "Example of calculation"
   ]
  },
  {
   "cell_type": "code",
   "execution_count": null,
   "metadata": {},
   "outputs": [],
   "source": [
    "u = 1.0604\n",
    "v= 0.9431\n",
    "r = 0.1 # annual interest\n",
    "t_tot = 1/3 # in years, so 4 months\n",
    "n_steps = 4 # 4 steps aka 4 months ahead\n",
    "stck_prices, opt_payoffs, opt_vals = option_prices('call', 'european', 100, 100, u,v, r, 1/3, )"
   ]
  },
  {
   "cell_type": "code",
   "execution_count": 2,
   "metadata": {},
   "outputs": [
    {
     "data": {
      "text/plain": [
       "{0: [100.0],\n",
       " 1: [106.04, 94.31],\n",
       " 2: [112.444816, 100.006324, 88.94376100000001],\n",
       " 3: [119.23648288640001,\n",
       "  106.04670596960001,\n",
       "  94.31596416440001,\n",
       "  83.88286099910002],\n",
       " 4: [126.43836645273856,\n",
       "  112.45192701016386,\n",
       "  100.01264839992977,\n",
       "  88.94938580344567,\n",
       "  79.10992620825122]}"
      ]
     },
     "execution_count": 2,
     "metadata": {},
     "output_type": "execute_result"
    }
   ],
   "source": [
    "stck_prices"
   ]
  },
  {
   "cell_type": "code",
   "execution_count": 3,
   "metadata": {},
   "outputs": [
    {
     "data": {
      "text/plain": [
       "{0: [0],\n",
       " 1: [6.040000000000006, 0],\n",
       " 2: [12.444816000000003, 0.006324000000006436, 0],\n",
       " 3: [19.23648288640001, 6.046705969600012, 0, 0],\n",
       " 4: [26.438366452738563, 12.451927010163857, 0.01264839992977329, 0, 0]}"
      ]
     },
     "execution_count": 3,
     "metadata": {},
     "output_type": "execute_result"
    }
   ],
   "source": [
    "opt_payoffs"
   ]
  },
  {
   "cell_type": "code",
   "execution_count": 4,
   "metadata": {},
   "outputs": [
    {
     "data": {
      "text/plain": [
       "{0: [6.1369300009326295],\n",
       " 1: [9.449690650117873, 2.0972146854304263],\n",
       " 2: [14.097670617838276, 3.7975870074382243, 0.003851269930354978],\n",
       " 3: [20.06635362251241, 6.876576705712424, 0.006979427076532846, 0.0],\n",
       " 4: [26.438366452738563, 12.451927010163857, 0.01264839992977329, 0, 0]}"
      ]
     },
     "execution_count": 4,
     "metadata": {},
     "output_type": "execute_result"
    }
   ],
   "source": [
    "opt_vals"
   ]
  },
  {
   "cell_type": "code",
   "execution_count": null,
   "metadata": {},
   "outputs": [],
   "source": []
  }
 ],
 "metadata": {
  "kernelspec": {
   "display_name": "Python 3",
   "language": "python",
   "name": "python3"
  },
  "language_info": {
   "codemirror_mode": {
    "name": "ipython",
    "version": 3
   },
   "file_extension": ".py",
   "mimetype": "text/x-python",
   "name": "python",
   "nbconvert_exporter": "python",
   "pygments_lexer": "ipython3",
   "version": "3.12.3"
  }
 },
 "nbformat": 4,
 "nbformat_minor": 2
}
