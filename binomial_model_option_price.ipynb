{
 "cells": [
  {
   "cell_type": "markdown",
   "metadata": {},
   "source": [
    "# SIMPLE TOOL FOR CALCULATING PUT/CALL OPTIONS VALUE IN THE BINOMIAL PRICING MODEL\n",
    "***"
   ]
  },
  {
   "cell_type": "markdown",
   "metadata": {},
   "source": [
    "We follow the exposition in Paul Wilmott's book. We price the option using the simple parametrization in which $S_{i+1} = uS_i$ with probability $p$ and $S_{i+1} = vS_i$ with probability $(1-p)$. The option price for European options is\n",
    "$$V_i = \\frac{V^+ _{i+1} - V^- _{i+1}}{u-V} + \\frac{1}{e^{r\\delta t}}\\frac{uV^- _{i+1} - vV^+ _{i+1}}{u-V} $$\n",
    "while for American options\n",
    "$$V_i = \\text{max}\\left ( \\frac{V^+ _{i+1} - V^- _{i+1}}{u-V} + \\frac{1}{e^{r\\delta t}}\\frac{uV^- _{i+1} - vV^+ _{i+1}}{u-V} , F-S_i \\right)$$\n",
    "where $V_{i+1} ^{\\pm}$ are the option values at the next step and $F$ is the strike price. Steps are defined by $\\delta t = T/N$, $i=0...N$."
   ]
  },
  {
   "cell_type": "code",
   "execution_count": 71,
   "metadata": {},
   "outputs": [],
   "source": [
    "import numpy as np\n",
    "from typing import List, Dict\n",
    "\n",
    "class OptionTypeInvalid(Exception):\n",
    "    def __init__(self,  message=\"Option type invalid\"):\n",
    "        self.message = message\n",
    "        super().__init__(self.message)\n",
    "\n",
    "class OptionSpeciesInvalid(Exception):\n",
    "    def __init__(self,  message=\"Option species invalid\"):\n",
    "        self.message = message\n",
    "        super().__init__(self.message)\n",
    "\n",
    "def option_payoff(option_type: 'str', asset_price: 'float', strike_price: 'float') -> float:\n",
    "    \"\"\" Returns the value of this option give an asset price and strike price\n",
    "\n",
    "    Attributes\n",
    "    ----------\n",
    "    option_type: str\n",
    "        Either 'call' or 'put'\n",
    "    asset_price: float\n",
    "    strike_price: float\n",
    "\n",
    "    Returns\n",
    "    -------\n",
    "    float\n",
    "        The value of the option\n",
    "    \"\"\"\n",
    "    if option_type == 'call':\n",
    "        return max(0,asset_price-strike_price)\n",
    "    elif option_type == 'put':\n",
    "        return max(0, strike_price-asset_price)\n",
    "    else:\n",
    "        raise OptionTypeInvalid()\n",
    "    \n",
    "\n",
    "def option_prices(option_type: 'str', option_species : 'str', strike_price: 'float', stock_init_price: 'float', u: 'float', v: 'float', risk_free_rate: 'float' , tot_time: 'float', n_steps: 'int') -> List[Dict[float, float]]:\n",
    "    \"\"\" Returns the values of the option given the option details, the risk free rate, the maturity and the number of steps in the simulation\n",
    "\n",
    "    Attributes\n",
    "    ----------\n",
    "    option_type: str\n",
    "        Either 'call' or 'put'\n",
    "    option_species: str\n",
    "        Either 'european' (default) or 'american'\n",
    "    strike_price: float\n",
    "    stock_init_price: float\n",
    "    u: float\n",
    "    v: float\n",
    "    risk_free_rate: float\n",
    "    tot_time: float\n",
    "    n_steps: int\n",
    "\n",
    "    Returns\n",
    "    -------\n",
    "    List[Dict[str, int]]\n",
    "        The values of the stock, of the option payoff and of the option at time step i\n",
    "    \"\"\"\n",
    "    step_size =  tot_time/n_steps\n",
    "    n_steps += 1\n",
    "    stock_prices = {i: [None for _ in range(i+1)] for i in range(n_steps)}\n",
    "    option_payoffs = {i: [None for _ in range(i+1)] for i in range(n_steps)}\n",
    "    option_values = {i: [None for _ in range(i+1)] for i in range(n_steps)}\n",
    "    for i in range(n_steps):\n",
    "        for j in range(i+1):\n",
    "            stock_prices[i][j] = stock_init_price * (u**(i-j)) * (v**(j))\n",
    "            option_payoffs[i][j] = option_payoff(option_type, stock_prices[i][j],strike_price)\n",
    "    option_values[n_steps-1] = option_payoffs[n_steps-1]\n",
    "    for i in range(n_steps):\n",
    "        for j in range(n_steps-i-1):\n",
    "            i_retro = n_steps-i-1\n",
    "            if option_species == 'european':\n",
    "                option_values[i_retro-1][j] = (option_values[i_retro][j]-option_values[i_retro][j+1])/(u-v) + (u*option_values[i_retro][j+1]-v*option_values[i_retro][j])/((u-v)*np.exp(risk_free_rate*step_size))\n",
    "            elif option_species == 'american':\n",
    "                option_values[i_retro-1][j] = max( (option_values[i_retro][j]-option_values[i_retro][j+1])/(u-v) + (u*option_values[i_retro][j+1]-v*option_values[i_retro][j])/((u-v)*np.exp(risk_free_rate*step_size)),\n",
    "                                                  option_payoff(option_type, stock_prices[i_retro-1][j], strike_price))\n",
    "            else:\n",
    "                raise OptionSpeciesInvalid()\n",
    "            \n",
    "    return [stock_prices, option_payoffs, option_values]\n",
    "\n"
   ]
  },
  {
   "cell_type": "markdown",
   "metadata": {},
   "source": [
    "Example of calculation\n",
    "(different prices for european and american)"
   ]
  },
  {
   "cell_type": "code",
   "execution_count": 112,
   "metadata": {},
   "outputs": [
    {
     "name": "stdout",
     "output_type": "stream",
     "text": [
      "Stock prices\n",
      "0 : [100.0]\n",
      "1 : [120.0, 80.0]\n",
      "2 : [144.0, 96.0, 64.00000000000001]\n",
      "Option payoffs\n",
      "0 : [0]\n",
      "1 : [0, 20.0]\n",
      "2 : [0, 4.0, 35.999999999999986]\n",
      "Option values\n",
      "0 : [6.194180597610661]\n",
      "1 : [1.4147530940085673, 15.122942450071378]\n",
      "2 : [0, 4.0, 35.999999999999986]\n"
     ]
    }
   ],
   "source": [
    "u = 1.2 # 1.0604\n",
    "v= 0.8 # 0.9431\n",
    "strike_price = 100\n",
    "stock_init_price = 100\n",
    "r = 0.05# 0.1 annual interest\n",
    "t_tot = 2 # 1/3 # in years, so 4 months\n",
    "n_steps = 2 #4 # 4 steps, so delta_t = t_tot/4 = 1 month\n",
    "\n",
    "stock_prices, option_payoffs, option_values = option_prices(option_type='put', option_species= 'european', strike_price = strike_price, stock_init_price = stock_init_price, u=u,v=v, risk_free_rate=r, tot_time = t_tot, n_steps=n_steps)\n",
    "\n",
    "print('Stock prices')\n",
    "for step, prices in stock_prices.items():\n",
    "    print(step, ':', prices)\n",
    "print('Option payoffs')\n",
    "for step, prices in option_payoffs.items():\n",
    "    print(step, ':', prices)\n",
    "print('Option values')\n",
    "for step, prices in option_values.items():\n",
    "    print(step, ':', prices)"
   ]
  }
 ],
 "metadata": {
  "kernelspec": {
   "display_name": "Python 3",
   "language": "python",
   "name": "python3"
  },
  "language_info": {
   "codemirror_mode": {
    "name": "ipython",
    "version": 3
   },
   "file_extension": ".py",
   "mimetype": "text/x-python",
   "name": "python",
   "nbconvert_exporter": "python",
   "pygments_lexer": "ipython3",
   "version": "3.12.3"
  }
 },
 "nbformat": 4,
 "nbformat_minor": 2
}
